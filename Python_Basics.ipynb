{
  "nbformat": 4,
  "nbformat_minor": 0,
  "metadata": {
    "colab": {
      "provenance": []
    },
    "kernelspec": {
      "name": "python3",
      "display_name": "Python 3"
    },
    "language_info": {
      "name": "python"
    }
  },
  "cells": [
    {
      "cell_type": "markdown",
      "source": [
        "**THEORY QUESTION AND ANSWER**"
      ],
      "metadata": {
        "id": "Xim3Nx0dAGXn"
      }
    },
    {
      "cell_type": "markdown",
      "source": [
        "1. what is python, and why is it populars?\n",
        "   - Python is a versatile, high-level programming language known for its readability and simplicity. It's popular due to its beginner-friendly syntax, extensive libraries, and wide range of applications in web development, data science, and machine learning.\n",
        "\n",
        "2. what is an interpreter in python?\n",
        "  - A Python interpreter is a program that executes Python code line by line.  It reads and interprets the code, converting it into instructions that the computer can understand and run, making Python an interpreted language.\n",
        "\n",
        "3. what are the pre-defined keywords in pythons?\n",
        "  -  Python's keywords are reserved words with special meanings.  They cannot be used as identifiers (variable names, function names, etc.). Examples include if, else, for, while, def, return, True, False, and None.\n",
        "\n",
        "4. can keywords be used as variables names?\n",
        "  - No, keywords cannot be used as variable names in Python.Attempting to do so will result in a SyntaxError. They are reserved for specific language constructs.\n",
        "\n",
        "5. what is mutability in pythons?\n",
        "  - Mutability in Python refers to whether an object's value can be changed after it's created. Mutable objects (like lists, dictionaries) can be altered, while immutable objects (like strings, tuples, numbers) cannot.\n",
        "\n",
        "6. why are lists mutable, but tuple are immutable?\n",
        "  - Lists are mutable to allow in-place modification, improving efficiency for dynamic data.Tuples are immutable for data integrity and use as dictionary keys or in situations where immutability is required.\n",
        "\n",
        "7. what is difference between \"==\" and \"is\" operator in pythons?\n",
        "  - == compares values of two objects, checking if they are equal, while is checks if two variables refer to the exact same object in memory. They serve different comparison purposes.\n",
        "\n",
        "8. what are logical operator in pythons?\n",
        "  - Python's logical operators, and, or, and not, combine or modify boolean values. and returns True only if both operands are True. or returns True if at least one operand is True. not inverts a boolean value.\n",
        "\n",
        "9.   what is type casting in pythons?\n",
        "  - Type casting converts a variable from one data type to another.  For example, int(3.14) converts the float 3.14 to the integer 3.  It's also known as type conversion.\n",
        "\n",
        "10.  what is difference between implicit and explicit type casting?\n",
        "  - Implicit type casting automatically converts data types by Python, while explicit type casting requires the programmer to manually convert a variable using functions like int(), float(), or str().\n",
        "\n",
        "11.   what is the purpose of conditional statement in pythons\n",
        "  - Conditional statements (like if, elif, else) control the flow of execution based on whether a condition is true or false. They allow different code blocks to run depending on the outcome.\n",
        "\n",
        "12. How does the elif statement works?\n",
        "  - The 'elif' statement in Python allows you to check multiple conditions after an initial 'if' . If the 'if' condition is false, 'elif' checks another condition, and so on, until one is true.\n",
        "\n",
        "13. what is the difference between for and while loops?\n",
        "  - A for loop is typically used when the number of iterations is known in advance, iterating through a specific range or collection. A while loop is used when the number of iterations is uncertain, continuing as long as a condition remains true. Both loops repeat code, but their use cases differ.\n",
        "\n",
        "14. Describe a scenario whare a while loop is more suitable than for loop.\n",
        "  - A while loop is more suitable when the number of iterations is unknown beforehand, such as reading data from a file until the end is reached, or repeating a process until a user enters a specific input."
      ],
      "metadata": {
        "id": "SVmuEzHFADLq"
      }
    },
    {
      "cell_type": "markdown",
      "source": [
        "**PRACTICAL QUESTIONS AND ANSWER**"
      ],
      "metadata": {
        "id": "5OjXjTNRSjJY"
      }
    },
    {
      "cell_type": "code",
      "source": [
        "# 1. write a python program to print \"Hello World!\"\n",
        "print(\"Hello World!\")"
      ],
      "metadata": {
        "colab": {
          "base_uri": "https://localhost:8080/"
        },
        "id": "gaGcFNn8SvW5",
        "outputId": "f6340cb2-0031-46c9-c8d0-d6224bd0e283"
      },
      "execution_count": null,
      "outputs": [
        {
          "output_type": "stream",
          "name": "stdout",
          "text": [
            "Hello World!\n"
          ]
        }
      ]
    },
    {
      "cell_type": "code",
      "source": [
        "# 2. write a python program that display your name and age.\n",
        "\n",
        "name = \"Sujeet Sharma\"  # your name\n",
        "age = 20                # your age\n",
        "\n",
        "print(\"Name:\", name)\n",
        "print(\"Age:\", age)"
      ],
      "metadata": {
        "colab": {
          "base_uri": "https://localhost:8080/"
        },
        "id": "fz-baMjXTrWa",
        "outputId": "739f7caf-3ae6-4682-8e2a-aaa7e7241569"
      },
      "execution_count": null,
      "outputs": [
        {
          "output_type": "stream",
          "name": "stdout",
          "text": [
            "Name: Sujeet Sharma\n",
            "Age: 20\n"
          ]
        }
      ]
    },
    {
      "cell_type": "code",
      "source": [
        "# 3. write code to print all pre-defined keywords in pythonusing keyword library.\n",
        "\n",
        "import keyword\n",
        "#print(\"Python Keywords:\", keyword.kwlist)\n",
        "keyword.kwlist"
      ],
      "metadata": {
        "colab": {
          "base_uri": "https://localhost:8080/"
        },
        "id": "Tx73TT3YWB5G",
        "outputId": "b92c28fa-fcf7-490b-98aa-16c49be83efe"
      },
      "execution_count": 2,
      "outputs": [
        {
          "output_type": "execute_result",
          "data": {
            "text/plain": [
              "['False',\n",
              " 'None',\n",
              " 'True',\n",
              " 'and',\n",
              " 'as',\n",
              " 'assert',\n",
              " 'async',\n",
              " 'await',\n",
              " 'break',\n",
              " 'class',\n",
              " 'continue',\n",
              " 'def',\n",
              " 'del',\n",
              " 'elif',\n",
              " 'else',\n",
              " 'except',\n",
              " 'finally',\n",
              " 'for',\n",
              " 'from',\n",
              " 'global',\n",
              " 'if',\n",
              " 'import',\n",
              " 'in',\n",
              " 'is',\n",
              " 'lambda',\n",
              " 'nonlocal',\n",
              " 'not',\n",
              " 'or',\n",
              " 'pass',\n",
              " 'raise',\n",
              " 'return',\n",
              " 'try',\n",
              " 'while',\n",
              " 'with',\n",
              " 'yield']"
            ]
          },
          "metadata": {},
          "execution_count": 2
        }
      ]
    },
    {
      "cell_type": "code",
      "source": [
        "# 4. write a program that check if a given word is a python keyword.\n",
        "\n",
        "import keyword\n",
        "word = input(\"Enter a word to check if it's a Python keyword: \")      # Input from user\n",
        "\n",
        "if keyword.iskeyword(word):                                           # Use iskeyword() to check if the word is a keyword\n",
        "    print(word, \" is a Python keyword.\")\n",
        "else:\n",
        "    print(word, \" is not a Python keyword.\")\n",
        "\n",
        "\n",
        "\n"
      ],
      "metadata": {
        "colab": {
          "base_uri": "https://localhost:8080/"
        },
        "id": "VHWOA7izWycx",
        "outputId": "41a16a0d-c0b2-4790-bf54-d82f59fd4010"
      },
      "execution_count": null,
      "outputs": [
        {
          "output_type": "stream",
          "name": "stdout",
          "text": [
            "Enter a word to check if it's a Python keyword: a\n",
            "a  is not a Python keyword.\n"
          ]
        }
      ]
    },
    {
      "cell_type": "code",
      "source": [
        "# 5. create a list and tuple in python, and demonstrate how attempting to change an element work differently for each.\n",
        "\n",
        "list = [1, 2, 3, 4]   # Creating a list\n",
        "list[2] = 99          # Change the element at index 2 to 99\n",
        "print(\"Updated list:\", list)\n",
        "\n",
        "tuple = (1, 2, 3, 4)  # Creating a tuple\n",
        "'''tuple[2] = 99                                      Trying to change an element in the tuple (this will raise an error)\n",
        "print(\"Updated tuples:\", tuple)                      Attempt to change the element at index 2 to 99\n",
        " 'tuple' object does not support item assignment '''\n",
        "\n"
      ],
      "metadata": {
        "colab": {
          "base_uri": "https://localhost:8080/"
        },
        "id": "HGSyDGhYFt_d",
        "outputId": "f1633d0f-085b-4b2f-8894-0a6f46755720"
      },
      "execution_count": null,
      "outputs": [
        {
          "output_type": "stream",
          "name": "stdout",
          "text": [
            "Updated list: [1, 2, 99, 4]\n"
          ]
        }
      ]
    },
    {
      "cell_type": "code",
      "source": [
        "# 6. write a function to demonstrate the behavior of mutable and immutable argument.\n",
        "\n",
        "def modify_arguments(immutable_arg, mutable_arg):\n",
        "    # Attempt to modify the immutable argument (integer, string, tuple)\n",
        "    immutable_arg += 10  # If it's an int\n",
        "\n",
        "    # Attempt to modify the mutable argument (list, dict, set)\n",
        "    mutable_arg.append(10)  # If it's a list\n",
        "\n",
        "    print(\"\\nInside function:\")\n",
        "    print(\"Immutable argument:\", immutable_arg)\n",
        "    print(\"Mutable argument:\", mutable_arg)\n",
        "\n",
        "# Immutable argument (integer)\n",
        "num = 5\n",
        "# Mutable argument (list)\n",
        "lst = [1, 2, 3]\n",
        "\n",
        "print(\"Before function call:\")\n",
        "print(\"num:\", num)\n",
        "print(\"lst:\", lst)\n",
        "\n",
        "modify_arguments(num, lst)\n",
        "\n",
        "print(\"\\nAfter function call:\")\n",
        "print(\"num:\", num)  # Will remain unchanged\n",
        "print(\"lst:\", lst)  # Will be modified\n",
        "\n",
        "\n"
      ],
      "metadata": {
        "id": "NncD20sKKu01",
        "outputId": "206b1726-ec0b-4412-80a3-cf755d98deec",
        "colab": {
          "base_uri": "https://localhost:8080/"
        }
      },
      "execution_count": 28,
      "outputs": [
        {
          "output_type": "stream",
          "name": "stdout",
          "text": [
            "Before function call:\n",
            "num: 5\n",
            "lst: [1, 2, 3]\n",
            "\n",
            "Inside function:\n",
            "Immutable argument: 15\n",
            "Mutable argument: [1, 2, 3, 10]\n",
            "\n",
            "After function call:\n",
            "num: 5\n",
            "lst: [1, 2, 3, 10]\n"
          ]
        }
      ]
    },
    {
      "cell_type": "code",
      "source": [
        "#7. Write a program that performs basic arithmetic operations on two user-input numbers.\n",
        "def arithmetic_operations(a, b):\n",
        "    print(f\"{a} + {b} =\", a + b)\n",
        "    print(f\"{a} - {b} =\", a - b)\n",
        "    print(f\"{a} * {b} =\", a * b)\n",
        "    print(f\"{a} / {b} =\", a / b if b != 0 else \"Undefined (division by zero)\")\n",
        "    print(f\"{a} % {b} =\", a % b if b != 0 else \"Undefined (modulo by zero)\")\n",
        "\n",
        "num1 = float(input(\"Enter first number: \"))\n",
        "num2 = float(input(\"Enter second number: \"))\n",
        "arithmetic_operations(num1, num2)"
      ],
      "metadata": {
        "colab": {
          "base_uri": "https://localhost:8080/"
        },
        "id": "1pZBwQeSq8J7",
        "outputId": "3a0a43c6-27a2-4d99-b67b-52fadce7e4ae"
      },
      "execution_count": null,
      "outputs": [
        {
          "output_type": "stream",
          "name": "stdout",
          "text": [
            "Enter first number: 2\n",
            "Enter second number: 6\n",
            "2.0 + 6.0 = 8.0\n",
            "2.0 - 6.0 = -4.0\n",
            "2.0 * 6.0 = 12.0\n",
            "2.0 / 6.0 = 0.3333333333333333\n",
            "2.0 % 6.0 = 2.0\n"
          ]
        }
      ]
    },
    {
      "cell_type": "code",
      "source": [
        "#8. Write a program to demonstrate the use of logical operators.#\n",
        "def logical_operators_demo(a, b):\n",
        "    print(f\"{a} and {b} =\", a and b)\n",
        "    print(f\"{a} or {b} =\", a or b)\n",
        "    print(f\"not {a} =\", not a)\n",
        "    print(f\"not {b} =\", not b)\n",
        "logical_operators_demo(x, y)"
      ],
      "metadata": {
        "colab": {
          "base_uri": "https://localhost:8080/"
        },
        "id": "5lreENV8qKsN",
        "outputId": "4c2ade38-9fe0-4b97-adfe-bc21772b2317"
      },
      "execution_count": null,
      "outputs": [
        {
          "output_type": "stream",
          "name": "stdout",
          "text": [
            "True and False = False\n",
            "True or False = True\n",
            "not True = False\n",
            "not False = True\n"
          ]
        }
      ]
    },
    {
      "cell_type": "code",
      "source": [
        "#9. Write a Python program to convert user input from string to integer, float, and boolean types.\n",
        "user = input(\"Enter a string: \")\n",
        "if user.isdigit():\n",
        "    integer_value = int(user)\n",
        "    float_value = float(user)\n",
        "    boolean_value = bool(user)\n",
        "\n",
        "elif user.isdigit():\n",
        "    stri = int(s)\n",
        "    print(stri)\n",
        "else:\n",
        "    print(\"The string is not convert into integer.\")\n",
        "\n",
        "print(\"Integer:\", integer_value)\n",
        "print(\"Float:\", float_value)\n",
        "print(\"Boolean:\", boolean_value)"
      ],
      "metadata": {
        "colab": {
          "base_uri": "https://localhost:8080/"
        },
        "id": "JiZEM-1GpySl",
        "outputId": "2b96bbe8-b337-4c9f-a016-15567d9bdc7d"
      },
      "execution_count": 19,
      "outputs": [
        {
          "output_type": "stream",
          "name": "stdout",
          "text": [
            "Enter a string: a\n",
            "The string is not convert into integer.\n",
            "Integer: 5\n",
            "Float: 5.0\n",
            "Boolean: True\n"
          ]
        }
      ]
    },
    {
      "cell_type": "code",
      "source": [
        "#10. Write code to demonstrate type casting with list elements.\n",
        "def type_cast_list(lst):\n",
        "    return [int(item) for item in lst]\n",
        "\n",
        "string_list = [\"1\", \"2\", \"3\", \"4\"]\n",
        "int_list = type_cast_list(string_list)\n",
        "type_cast_list(string_list)\n"
      ],
      "metadata": {
        "colab": {
          "base_uri": "https://localhost:8080/"
        },
        "id": "hO7TheRCpha3",
        "outputId": "340d1c34-e9f4-47a1-87bf-848602430272"
      },
      "execution_count": null,
      "outputs": [
        {
          "output_type": "execute_result",
          "data": {
            "text/plain": [
              "[1, 2, 3, 4]"
            ]
          },
          "metadata": {},
          "execution_count": 22
        }
      ]
    },
    {
      "cell_type": "code",
      "source": [
        "#11. Write a program that checks if a number is positive, negative, or zero.\n",
        "def check_number(n):\n",
        "    if n > 0:\n",
        "        return \"Positive\"\n",
        "    elif n < 0:\n",
        "        return \"Negative\"\n",
        "    else:\n",
        "        return \"Zero\"\n",
        "\n",
        "num_check = int(input(\"Enter a number to check: \"))\n",
        "print(\"The number is:\", check_number(num_check))"
      ],
      "metadata": {
        "colab": {
          "base_uri": "https://localhost:8080/"
        },
        "id": "FNXvVswKpGrW",
        "outputId": "f775125f-f6f4-44e1-b071-e6ab7feb441a"
      },
      "execution_count": null,
      "outputs": [
        {
          "output_type": "stream",
          "name": "stdout",
          "text": [
            "Enter a number to check: -3\n",
            "The number is: Negative\n"
          ]
        }
      ]
    },
    {
      "cell_type": "code",
      "source": [
        "#12. Write a for loop to print numbers from 1 to 10.\n",
        "for i in range(1, 11):\n",
        "    print(i)"
      ],
      "metadata": {
        "colab": {
          "base_uri": "https://localhost:8080/"
        },
        "id": "uVpvS60qnV_5",
        "outputId": "8ff9c6cc-e327-4083-da8a-6a253e4d1615"
      },
      "execution_count": null,
      "outputs": [
        {
          "output_type": "stream",
          "name": "stdout",
          "text": [
            "1\n",
            "2\n",
            "3\n",
            "4\n",
            "5\n",
            "6\n",
            "7\n",
            "8\n",
            "9\n",
            "10\n"
          ]
        }
      ]
    },
    {
      "cell_type": "code",
      "source": [
        "#13. Write a Python program to find the sum of all even numbers between 1 and 50.\n",
        "def sum_of_evens():\n",
        "    return sum(num for num in range(51) if num % 2 == 0)\n",
        "\n",
        "result = sum_of_evens()\n",
        "print(\"Sum of all even numbers between 1 and 50:\", result)"
      ],
      "metadata": {
        "colab": {
          "base_uri": "https://localhost:8080/"
        },
        "id": "OAE_qd0Pn3KF",
        "outputId": "009a9829-e6c9-4e88-e8a5-2cb050d1d732"
      },
      "execution_count": null,
      "outputs": [
        {
          "output_type": "stream",
          "name": "stdout",
          "text": [
            "Sum of all even numbers between 1 and 50: 650\n"
          ]
        }
      ]
    },
    {
      "cell_type": "code",
      "source": [
        "#14. Write a program to reverse a string using a while loop.\n",
        "def reverse_string(s):\n",
        "    reversed_s = \"\"\n",
        "    i = len(s) - 1\n",
        "    while i >= 0:\n",
        "        reversed_s += s[i]\n",
        "        i -= 1\n",
        "    return reversed_s\n",
        "\n",
        "string = \"Hello, World!\"\n",
        "reversed_string = reverse_string(string)\n",
        "print(\"Reversed string:\", reversed_string)\n"
      ],
      "metadata": {
        "colab": {
          "base_uri": "https://localhost:8080/"
        },
        "id": "pmqN1YRhoaCM",
        "outputId": "d5618ef1-bcca-4daf-8c81-ae86e7d7c2c3"
      },
      "execution_count": null,
      "outputs": [
        {
          "output_type": "stream",
          "name": "stdout",
          "text": [
            "Reversed string: !dlroW ,olleH\n"
          ]
        }
      ]
    },
    {
      "cell_type": "code",
      "source": [
        "#15. Write a Python program to calculate the factorial of a number provided by the user using a while loop.\n",
        "def factorial(n):\n",
        "    fact = 1\n",
        "    while n > 0:\n",
        "        fact *= n\n",
        "        n -= 1\n",
        "    return fact\n",
        "\n",
        "num = int(input(\"Enter a number: \"))\n",
        "print(\"Factorial of\", num, \"is\", factorial(num))\n"
      ],
      "metadata": {
        "colab": {
          "base_uri": "https://localhost:8080/"
        },
        "id": "0rhBUNzfoto8",
        "outputId": "2952d0e0-8cd4-4e25-f54a-00d341759410"
      },
      "execution_count": null,
      "outputs": [
        {
          "output_type": "stream",
          "name": "stdout",
          "text": [
            "Enter a number: 5\n",
            "Factorial of 5 is 120\n"
          ]
        }
      ]
    }
  ]
}